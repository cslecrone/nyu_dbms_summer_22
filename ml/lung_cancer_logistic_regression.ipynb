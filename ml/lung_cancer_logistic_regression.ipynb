{
 "cells": [
  {
   "cell_type": "code",
   "execution_count": 2,
   "metadata": {},
   "outputs": [],
   "source": [
    "import warnings\n",
    "\n",
    "from imblearn.over_sampling import RandomOverSampler\n",
    "import matplotlib.pyplot as plt\n",
    "import numpy as np\n",
    "import pandas as pd\n",
    "import seaborn as sns\n",
    "from sklearn.linear_model import LogisticRegression\n",
    "from sklearn.metrics import classification_report, confusion_matrix\n",
    "from sklearn.model_selection import train_test_split, RandomizedSearchCV\n",
    "from sklearn.preprocessing import LabelEncoder, StandardScaler"
   ]
  },
  {
   "cell_type": "code",
   "execution_count": 3,
   "metadata": {},
   "outputs": [],
   "source": [
    "# Silence warnings\n",
    "warnings.filterwarnings('ignore')"
   ]
  },
  {
   "cell_type": "code",
   "execution_count": 4,
   "metadata": {},
   "outputs": [],
   "source": [
    "# Create a dataframe from our dataset and remove duplicates\n",
    "df = pd.read_csv(\"data/cancer/lung_cancer_survey.csv\")\n",
    "df.drop_duplicates(inplace=True)"
   ]
  },
  {
   "cell_type": "code",
   "execution_count": 5,
   "metadata": {},
   "outputs": [],
   "source": [
    "# Encode the Lung Cancer and Gender columns to binary values\n",
    "# M->1 F->0\n",
    "# YES->1 NO->0\n",
    "encoder = LabelEncoder()\n",
    "df['LUNG_CANCER']=encoder.fit_transform(df['LUNG_CANCER'])\n",
    "df['GENDER']=encoder.fit_transform(df['GENDER'])\n",
    "\n",
    "# Age the only column with continuous values, so separate it from the others\n",
    "con_col = ['AGE']\n",
    "cat_col=[i for i in df.columns if i != \"AGE\"]\n",
    "\n",
    "# Separate independent and dependent features\n",
    "x=df.drop(['LUNG_CANCER'],axis=1)\n",
    "y=df['LUNG_CANCER']\n",
    "\n",
    "# Normalize 1's and 2's as 0's and 1's\n",
    "for i in x.columns[2:]:\n",
    "    temp=[]\n",
    "    for j in x[i]:\n",
    "        temp.append(j-1)\n",
    "    x[i]=temp\n",
    "\n",
    "# Oversample minority classes\n",
    "x_over, y_over = RandomOverSampler().fit_resample(x,y)\n",
    "\n",
    "# Split data into training and test datasets\n",
    "x_train, x_test, y_train, y_test = train_test_split(\n",
    "    x_over, y_over, random_state=42 ,stratify=y_over\n",
    ")\n",
    "\n",
    "# Standardize Age data in both the training and test datasets\n",
    "scaler = StandardScaler()\n",
    "x_train['AGE'] = scaler.fit_transform(x_train[['AGE']])\n",
    "x_test['AGE'] = scaler.transform(x_test[['AGE']])"
   ]
  },
  {
   "cell_type": "code",
   "execution_count": 9,
   "metadata": {},
   "outputs": [
    {
     "name": "stdout",
     "output_type": "stream",
     "text": [
      "[0 0 1 1 0 1 1 1 1 1 1 0 0 1 1 0 1 0 0 1 0 1 0 1 0 0 0 0 0 0 1 0 1 1 0 0 1\n",
      " 0 0 1 0 0 1 0 0 1 0 1 1 1 1 0 1 1 1 1 0 1 0 0 1 0 0 1 0 0 0 0 1 1 1 0 0 0\n",
      " 0 0 0 0 0 1 1 0 1 0 0 1 1 1 1 0 0 1 0 1 1 0 0 1 1 0 1 0 0 0 0 0 0 1 0 0 0\n",
      " 1 0 1 1 0 1 0 0]\n",
      "     GENDER       AGE  SMOKING  YELLOW_FINGERS  ANXIETY  PEER_PRESSURE  \\\n",
      "129       0 -0.124698        1               0        0              0   \n",
      "227       0 -1.497979        0               1        1              0   \n",
      "133       0 -0.696898        1               1        1              0   \n",
      "100       1  0.218622        1               0        0              0   \n",
      "184       1 -0.811338        1               0        0              0   \n",
      "..      ...       ...      ...             ...      ...            ...   \n",
      "442       1  0.104182        1               1        1              0   \n",
      "327       0  2.850744        0               0        0              0   \n",
      "257       1  0.905263        1               0        0              0   \n",
      "427       0 -0.010258        0               0        0              0   \n",
      "473       0 -0.582458        1               1        0              0   \n",
      "\n",
      "     CHRONIC DISEASE  FATIGUE   ALLERGY   WHEEZING  ALCOHOL CONSUMING  \\\n",
      "129                1         1         1         0                  0   \n",
      "227                0         0         0         0                  0   \n",
      "133                0         1         1         0                  0   \n",
      "100                0         1         1         1                  1   \n",
      "184                0         1         0         0                  0   \n",
      "..               ...       ...       ...       ...                ...   \n",
      "442                0         0         0         0                  1   \n",
      "327                1         1         0         0                  0   \n",
      "257                0         1         0         1                  1   \n",
      "427                1         1         0         0                  0   \n",
      "473                0         0         0         0                  0   \n",
      "\n",
      "     COUGHING  SHORTNESS OF BREATH  SWALLOWING DIFFICULTY  CHEST PAIN  \n",
      "129         0                    1                      0           0  \n",
      "227         1                    0                      0           0  \n",
      "133         0                    1                      0           1  \n",
      "100         1                    1                      0           1  \n",
      "184         0                    0                      0           0  \n",
      "..        ...                  ...                    ...         ...  \n",
      "442         0                    0                      1           1  \n",
      "327         0                    1                      0           0  \n",
      "257         1                    1                      0           1  \n",
      "427         0                    1                      0           0  \n",
      "473         0                    1                      0           0  \n",
      "\n",
      "[119 rows x 15 columns]\n"
     ]
    },
    {
     "data": {
      "image/png": "[encoded data removed]",
      "text/plain": [
       "<Figure size 576x576 with 2 Axes>"
      ]
     },
     "metadata": {
      "needs_background": "light"
     },
     "output_type": "display_data"
    }
   ],
   "source": [
    "param_grid = {\n",
    "    'C':[0.001,0.01,0.1,1,10,100], \n",
    "    'max_iter':[50,75,100,200,300,400,500,700]\n",
    "}\n",
    "\n",
    "# Train model on training data\n",
    "log = RandomizedSearchCV(LogisticRegression(solver='lbfgs'), param_grid, cv=5)\n",
    "log.fit(x_train,y_train)\n",
    "\n",
    "y_pred_log = log.predict(x_test)\n",
    "confusion_log = confusion_matrix(y_test,log.predict(x_test))\n",
    "\n",
    "plt.figure(figsize=(8,8))\n",
    "sns.heatmap(confusion_log,annot=True)\n",
    "plt.xlabel(\"Predicted\")\n",
    "plt.ylabel(\"Actual\")\n",
    "\n",
    "print(f\"Pred log: {y_pred_log}\")\n",
    "print(f\"X Test: {x_test}\")"
   ]
  },
  {
   "cell_type": "code",
   "execution_count": null,
   "metadata": {},
   "outputs": [],
   "source": []
  }
 ],
 "metadata": {
  "kernelspec": {
   "display_name": "Python 3.8.9 ('.venv': venv)",
   "language": "python",
   "name": "python3"
  },
  "language_info": {
   "codemirror_mode": {
    "name": "ipython",
    "version": 3
   },
   "file_extension": ".py",
   "mimetype": "text/x-python",
   "name": "python",
   "nbconvert_exporter": "python",
   "pygments_lexer": "ipython3",
   "version": "3.8.9"
  },
  "orig_nbformat": 4,
  "vscode": {
   "interpreter": {
    "hash": "9784b2f8ed8b33bfe8bc91508a730381db9f46e551c81a59c25f927c1d1fc325"
   }
  }
 },
 "nbformat": 4,
 "nbformat_minor": 2
}
